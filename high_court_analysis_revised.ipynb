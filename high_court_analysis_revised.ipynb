{
 "cells": [
  {
   "cell_type": "code",
   "execution_count": 2,
   "metadata": {},
   "outputs": [],
   "source": [
    "import pandas as pd\n",
    "import os \n",
    "import glob\n",
    "import pandas as pd\n",
    "import pandas as pd\n",
    "import numpy as np\n",
    "import matplotlib.pyplot as plt\n",
    "import seaborn as sns\n",
    "import openpyxl\n",
    "import datetime \n",
    "\n",
    "# Define paths\n",
    "folder_path = '/Users/jud-05/Desktop/High Court/ANNUAL'\n",
    "new_path = '/Users/jud-05/Desktop/High Court/ANNUAL_COMBINED'\n",
    "path = '/Users/jud-05/Desktop/High Court/ANNUAL_COMBINED/dcrt_4Q'\n",
    "\n",
    "# Ensure the new directories exist\n",
    "os.makedirs(new_path, exist_ok=True)\n",
    "os.makedirs(path, exist_ok=True)\n",
    "\n",
    "# Reading all the Excel files in the folder\n",
    "file_names = glob.glob(folder_path + \"/*.xls\")\n",
    "\n",
    "# Iterate through each file\n",
    "for f in file_names:\n",
    "    # Read Excel file into a DataFrame, skipping the first 4 rows\n",
    "    df = pd.read_excel(f, skiprows=4)\n",
    "    \n",
    "    # Extract the base name of the file without extension and with a unique identifier\n",
    "    base_name = os.path.splitext(os.path.basename(f))[0]  # Get base name without extension\n",
    "    base_name = base_name.split()[0] + '_' + str(file_names.index(f))  # Append unique index\n",
    "    \n",
    "    # Save it as a .csv in the new directory\n",
    "    df.to_csv(f'{path}/{base_name}.csv', index=False)\n"
   ]
  },
  {
   "cell_type": "code",
   "execution_count": 3,
   "metadata": {},
   "outputs": [
    {
     "name": "stdout",
     "output_type": "stream",
     "text": [
      "Number of CSV files in the folder: 312\n"
     ]
    }
   ],
   "source": [
    "# Use glob to list all CSV files in the folder\n",
    "csv_files = glob.glob(path + \"/*.csv\")\n",
    "# Count the number of CSV files\n",
    "num_csv_files = len(csv_files)\n",
    "\n",
    "print(f\"Number of CSV files in the folder: {num_csv_files}\")"
   ]
  },
  {
   "cell_type": "code",
   "execution_count": 4,
   "metadata": {},
   "outputs": [
    {
     "name": "stderr",
     "output_type": "stream",
     "text": [
      "/var/folders/5q/4jwyrq8j3_95g9th989sqyfw0000gn/T/ipykernel_32255/2607724255.py:13: FutureWarning: The behavior of DataFrame concatenation with empty or all-NA entries is deprecated. In a future version, this will no longer exclude empty or all-NA columns when determining the result dtypes. To retain the old behavior, exclude the relevant entries before the concat operation.\n",
      "  combined_csv = pd.concat(li, axis=0, ignore_index=True)\n"
     ]
    }
   ],
   "source": [
    "# Get all the CSV files in the directory\n",
    "all_files = glob.glob(path + \"/*.csv\")\n",
    "\n",
    "all_files\n",
    "\n",
    "# Combine all the CSV files into a single DataFrame and insert a column with the name of the file\n",
    "li = []\n",
    "for filename in all_files:\n",
    "    df = pd.read_csv(filename, index_col=None, header=0)\n",
    "    df['file_name'] = os.path.basename(filename)\n",
    "    li.append(df)\n",
    "       \n",
    "combined_csv = pd.concat(li, axis=0, ignore_index=True)\n",
    "\n",
    "\n",
    "#save the combined file as a csv\n",
    "combined_csv.to_csv(f'{path}/raw data/HC_combined.csv', index=False)"
   ]
  },
  {
   "cell_type": "code",
   "execution_count": 5,
   "metadata": {},
   "outputs": [],
   "source": [
    "#rename columns\n",
    "# Simplified version of data.rename() function\n",
    "combined_csv.rename(columns={\n",
    "    'file_name': 'court_name',\n",
    "    'Day': 'date_dd',\n",
    "    'Month': 'date_mon',\n",
    "    'Year': 'date_yyyy',\n",
    "    'Code': 'caseid_type',\n",
    "    'No.': 'caseid_no',\n",
    "    'Day.1': 'filed_dd',\n",
    "    'Month.1': 'filed_mon',\n",
    "    'Year.1': 'filed_yyyy',\n",
    "    'Name of Court': 'origcourt',\n",
    "    'Code.1': 'appeal_type',\n",
    "    'No..1': 'appeal_no',\n",
    "    'Year.2': 'appeal_yyyy',\n",
    "    '\\n(Select)': 'case_type',\n",
    "    'Name of Judge 1 or Magistrate/DR or Kadhi': 'bench_1',\n",
    "    'Judge 2': 'bench_2',\n",
    "    'Judge 3': 'bench_3',\n",
    "    'Judge 4': 'bench_4',\n",
    "    'Judge 5': 'bench_5',\n",
    "    'Judge 6': 'bench_6',\n",
    "    'Judge 7': 'bench_7',\n",
    "    '(Select option)': 'comingfor',\n",
    "    '(Select option).1': 'outcome',\n",
    "    '(Select option).2': 'reason_adj',\n",
    "    'Day.2': 'next_dd',\n",
    "    'Month.2': 'next_mon',\n",
    "    'Year.3': 'next_yyyy',\n",
    "    'M': 'firstparty_m',\n",
    "    'F': 'firstparty_f',\n",
    "    'Org.': 'firstparty_org',\n",
    "    'M.1': 'secondparty_m',\n",
    "    'F.1': 'secondparty_f',\n",
    "    'Org..1': 'secondparty_o',\n",
    "    '(Y/N)': 'legalrep',\n",
    "    'P \\n(Enter No.)': 'p_witness',\n",
    "    'D\\n(Enter No.)': 'd_witness',\n",
    "    '(Enter No.)': 'custody',\n",
    "    '(Free text)': 'other_details'\n",
    "}, inplace=True)\n",
    "\n",
    "#save the combined file as a csv\n",
    "combined_csv.to_csv(f'{path}/raw data/HC_combined.csv', index=False)"
   ]
  },
  {
   "cell_type": "code",
   "execution_count": 6,
   "metadata": {},
   "outputs": [
    {
     "data": {
      "text/plain": [
       "activity_date\n",
       "2023-09-28    3163\n",
       "2023-07-27    3160\n",
       "2023-10-12    3019\n",
       "2023-11-30    2976\n",
       "2024-03-18    2938\n",
       "              ... \n",
       "2023-07-02       1\n",
       "2023-12-10       1\n",
       "2024-06-02       1\n",
       "2023-07-30       1\n",
       "2023-09-10       1\n",
       "Name: count, Length: 310, dtype: int64"
      ]
     },
     "execution_count": 6,
     "metadata": {},
     "output_type": "execute_result"
    }
   ],
   "source": [
    "def convert_to_datetime(combined_csv, day_col, month_col, year_col, new_col, index):\n",
    "    date_str = combined_csv[day_col].astype(str) + \"-\" + combined_csv[month_col] + \"-\" + combined_csv[year_col].astype(str)\n",
    "    combined_csv[new_col] = pd.to_datetime(date_str, format=\"%d-%b-%Y\", errors=\"coerce\")\n",
    "    #data.insert(index, new_col, data.pop(new_col))\n",
    "    return combined_csv\n",
    "\n",
    "combined_csv = convert_to_datetime(combined_csv, \"date_dd\", \"date_mon\", \"date_yyyy\", \"activity_date\", 2)\n",
    "combined_csv = convert_to_datetime(combined_csv, \"filed_dd\", \"filed_mon\", \"filed_yyyy\", \"filed_date\", 3)\n",
    "for i in combined_csv['next_dd'].unique():\n",
    "    if i == \" \":\n",
    "        combined_csv.loc[combined_csv[['next_dd', 'next_mon', 'next_yyyy']] == i, 'next_dd', 'next_mon', 'next_yyyy'] = \"\"\n",
    "    else:\n",
    "        combined_csv = convert_to_datetime(combined_csv, \"next_dd\", \"next_mon\", \"next_yyyy\", \"next_date\", 4)\n",
    "        \n",
    "combined_csv['activity_date'].value_counts()"
   ]
  },
  {
   "cell_type": "code",
   "execution_count": 6,
   "metadata": {},
   "outputs": [
    {
     "data": {
      "text/plain": [
       "case_identifier\n",
       "Mombasa_36.csv-HCCRC-E017/2023-08-29         11\n",
       "Homabay_57.csv-HCCRC-E002/2024-01-17          7\n",
       "Milimani_6.csv-HCCC-1068/1998-05-07           6\n",
       "Milimani_40.csv-HCFP&A-594/2002-07-13         6\n",
       "Milimani_28.csv-HCCHRPET-E181/2024-04-08      6\n",
       "                                             ..\n",
       "Milimani_5.csv-HCCOMMMISC-E036/2024-01-18     1\n",
       "Milimani_5.csv-HCCOMMMISC-E038/2024-01-19     1\n",
       "Milimani_5.csv-HCCOMMMISC-E040/2024-01-19     1\n",
       "Milimani_5.csv-HCCOMMMISC-E050/2024-01-24     1\n",
       "Maralal_42.csv-HCCRREV-E001/2024-02-15        1\n",
       "Name: count, Length: 46080, dtype: int64"
      ]
     },
     "execution_count": 6,
     "metadata": {},
     "output_type": "execute_result"
    }
   ],
   "source": [
    "#create unique case id\n",
    "combined_csv[\"case_identifier\"] = combined_csv ['court_name'] + \"-\" + combined_csv[\"caseid_type\"]+ \"-\" + combined_csv[\"caseid_no\"].astype(str) + \"/\" + combined_csv[\"filed_date\"].astype(str)\n",
    "combined_csv.insert(1, \"case_identifier\", combined_csv.pop(\"case_identifier\"))\n",
    "\n",
    "combined_csv[\"case_identifier\"].value_counts()"
   ]
  },
  {
   "cell_type": "code",
   "execution_count": 7,
   "metadata": {},
   "outputs": [],
   "source": [
    "#check duplicates\n",
    "combined_csv.duplicated().sum()\n",
    "\n",
    "#drop duplicates\n",
    "combined_csv = combined_csv.drop_duplicates()\n",
    "\n"
   ]
  },
  {
   "cell_type": "code",
   "execution_count": 8,
   "metadata": {},
   "outputs": [
    {
     "data": {
      "text/plain": [
       "court_name\n",
       "Milimani_5.csv     5620\n",
       "Milimani_40.csv    5579\n",
       "Milimani_6.csv     4106\n",
       "Kiambu_76.csv      2273\n",
       "Machakos_56.csv    1792\n",
       "                   ... \n",
       "Eldama_39.csv        90\n",
       "Marsabit_71.csv      77\n",
       "Eldoret_37.csv       55\n",
       "Maralal_42.csv       31\n",
       "Mandera_64.csv       18\n",
       "Name: count, Length: 76, dtype: int64"
      ]
     },
     "execution_count": 8,
     "metadata": {},
     "output_type": "execute_result"
    }
   ],
   "source": [
    "combined_csv['court_name'].value_counts()"
   ]
  },
  {
   "cell_type": "code",
   "execution_count": 9,
   "metadata": {},
   "outputs": [
    {
     "data": {
      "text/plain": [
       "case_type\n",
       "Civil Appeal                                                     8899\n",
       "Family P&A Intestate                                             6782\n",
       "Murder Case                                                      5387\n",
       "Civil Case Miscellaneous                                         4619\n",
       "Criminal Appeal                                                  4048\n",
       "Commercial Matters                                               3266\n",
       "Criminal Revision                                                2919\n",
       "Civil Suit                                                       2494\n",
       "Constitution and Human Rights Petition (Civil)                   1848\n",
       "Criminal Miscellaneous Application                               1825\n",
       "Commercial Miscellaneous                                         1377\n",
       "Family P&A Testate                                               1094\n",
       "Family P&A Citation                                              1089\n",
       "Family P&A Ad Litem                                               985\n",
       "Family Miscellaneous                                              864\n",
       "Judicial Review                                                   817\n",
       "Family Appeal                                                     747\n",
       "Family Originating Summons                                        646\n",
       "Family Adoption                                                   563\n",
       "Commercial Appeal                                                 487\n",
       "Mediation                                                         410\n",
       "High Court Criminal Petition                                      408\n",
       "Family P&A Ad Colligenda                                          303\n",
       "Judicial Review Miscellaneous                                     238\n",
       "Commercial Income Tax Appeal                                      231\n",
       "Commercial Insolvency Petition                                    221\n",
       "Commercial Insolvency Notice                                      192\n",
       "Anti-Corruption and Economic Crimes Suit                          142\n",
       "Commercial Insolvency Cause                                       141\n",
       "Family P&A Resealing of Grant                                     111\n",
       "Commercial Arbitration                                            102\n",
       "High Court Constitution and Human Rights Petitions (Criminal)      86\n",
       "Constitution and Human Rights Petitions Miscellaneous              68\n",
       "Family Civil Case                                                  66\n",
       "Commercial Petition                                                65\n",
       "Anti-Corruption and Economic Crimes Appeal                         51\n",
       "Commercial Custom Tax Appeal                                       44\n",
       "Anti-Corruption and Economic Crimes Miscellaneous                  41\n",
       "Commercial Winding Up Cause                                        28\n",
       "Family P&A De Bonis Non                                            26\n",
       "Family Divorce Cause                                               24\n",
       "Commercial Insolvency Notice Petition                              22\n",
       "Constitution and Human Rights Election Petition                    16\n",
       "Anti Corruption and Economic Crimes Petition                       14\n",
       "Commercial Bankruptcy Cause                                        12\n",
       " Constitution and Human Rights Election Petition Appeal             8\n",
       "Criminal Court Martial Appeal                                       5\n",
       "Anti-Corruption and Economic Crimes Revision                        4\n",
       "Judicial Review ELC                                                 3\n",
       "Commercial Admiralty                                                3\n",
       "Murder - Gender Justice Criminal Case                               2\n",
       "Liquidated Claim                                                    1\n",
       "Name: count, dtype: int64"
      ]
     },
     "execution_count": 9,
     "metadata": {},
     "output_type": "execute_result"
    }
   ],
   "source": [
    "combined_csv['case_type'].value_counts()"
   ]
  },
  {
   "cell_type": "code",
   "execution_count": 10,
   "metadata": {},
   "outputs": [],
   "source": [
    "def create_case_nature(combined_csv, old_col, new_col, index):\n",
    "    case_nature = combined_csv[old_col].astype(str).apply(lambda x: \n",
    "        \"CRIMINAL\" if any(y in x for y in [\"CR\"]) \n",
    "        else \"CIVIL\")\n",
    "    combined_csv[new_col] = case_nature\n",
    "   #combined_csv.insert(index, new_col, combined_csv.pop(new_col))\n",
    "    return combined_csv\n",
    "combined_csv = create_case_nature(combined_csv, \"caseid_type\", \"case_nature\", 5)\n",
    "\n",
    "\n"
   ]
  },
  {
   "cell_type": "code",
   "execution_count": 11,
   "metadata": {},
   "outputs": [
    {
     "data": {
      "text/plain": [
       "outcome\n",
       "Mention date set (in court)     2753\n",
       "Case Registered/Filed           2011\n",
       "Directions given                1845\n",
       "Hearing date set (in court)      748\n",
       "Adjournment                      623\n",
       "                                ... \n",
       "Ruling Date Set                    1\n",
       "Mention date at the Registry       1\n",
       "Oral submissions made              1\n",
       "Limited Grant Issued               1\n",
       "Grant revoked                      1\n",
       "Name: count, Length: 73, dtype: int64"
      ]
     },
     "execution_count": 11,
     "metadata": {},
     "output_type": "execute_result"
    }
   ],
   "source": [
    "combined_csv['outcome'].value_counts()"
   ]
  },
  {
   "cell_type": "code",
   "execution_count": 12,
   "metadata": {},
   "outputs": [
    {
     "data": {
      "text/plain": [
       "filed\n",
       "0    51866\n",
       "1     1978\n",
       "Name: count, dtype: int64"
      ]
     },
     "execution_count": 12,
     "metadata": {},
     "output_type": "execute_result"
    }
   ],
   "source": [
    "#generate function to generate filed cases width activity date before filed date\n",
    "def filed_cases(combined_csv):\n",
    "    filed = []\n",
    "    for i, row in combined_csv.iterrows():\n",
    "        if \"Case Registered/Filed\" in str(row['outcome']) and row['activity_date'] >= row['filed_date']:\n",
    "            filed.append(1)\n",
    "        else:\n",
    "            filed.append(0)\n",
    "    combined_csv['filed'] = filed\n",
    "    return combined_csv\n",
    "\n",
    "combined_csv = filed_cases(combined_csv)\n",
    "\n",
    "combined_csv['filed'].value_counts()"
   ]
  },
  {
   "cell_type": "code",
   "execution_count": 13,
   "metadata": {},
   "outputs": [
    {
     "data": {
      "text/plain": [
       "outcome\n",
       "Mention date set (in court)     2753\n",
       "Case Registered/Filed           2011\n",
       "Directions given                1845\n",
       "Hearing date set (in court)      748\n",
       "Adjournment                      623\n",
       "                                ... \n",
       "Ruling Date Set                    1\n",
       "Mention date at the Registry       1\n",
       "Oral submissions made              1\n",
       "Limited Grant Issued               1\n",
       "Grant revoked                      1\n",
       "Name: count, Length: 73, dtype: int64"
      ]
     },
     "execution_count": 13,
     "metadata": {},
     "output_type": "execute_result"
    }
   ],
   "source": [
    "combined_csv['outcome'].value_counts()"
   ]
  },
  {
   "cell_type": "code",
   "execution_count": 14,
   "metadata": {},
   "outputs": [
    {
     "data": {
      "text/plain": [
       "1055"
      ]
     },
     "execution_count": 14,
     "metadata": {},
     "output_type": "execute_result"
    }
   ],
   "source": [
    "#change outcome column to upper case\n",
    "combined_csv['outcome'] = combined_csv['outcome'].str.upper()\n",
    "def resolved_cases(combined_csv):\n",
    "    resolved = []\n",
    "    for i in combined_csv['outcome'].astype(str):\n",
    "        if (\"ABATED\" in i or \"CASE CLOSED\" in i or \"STRUCK OUT\" in i or  \"TERMINATED\" in i or \"DISMISS\" in i or \"GRANT CONFIRMED\" in i or \"GRANT REVOKED\" in i or \"JUDGMENT DELIVERED\" in i or \"ACQUITTAL\" in i or \"CONVICTED\" in i or \"LIMITED GRANT ISSUED\" in i or \"WITHDRAW\" in i or \"SETTLEMEN\" in i or \"REVISION DECLINED\" in i or \"RULING DELIVERED- ACCUSED DISC\" in i or \"RULING DELIVERED- CASE CLOSED\" in i) and (\"ORDER ISSUED - CASE CLOSED\" not in i):\n",
    "            resolved.append(1)\n",
    "    \n",
    "        else:\n",
    "            resolved.append(0)\n",
    "    combined_csv['resolved'] = resolved\n",
    "    return combined_csv\n",
    "\n",
    "combined_csv = resolved_cases(combined_csv)\n",
    "\n",
    "total_resolved = combined_csv['resolved'].sum()\n",
    "combined_csv[['outcome', 'resolved']] [combined_csv['resolved'] == 1].value_counts()\n",
    "total_resolved\n",
    "\n",
    "\n",
    "\n",
    "\n"
   ]
  },
  {
   "cell_type": "code",
   "execution_count": 15,
   "metadata": {},
   "outputs": [
    {
     "data": {
      "text/plain": [
       "court_name\n",
       "Kakamega_44.csv    100\n",
       "Milimani_40.csv     87\n",
       "Nanyuki_14.csv      76\n",
       "Milimani_5.csv      70\n",
       "Malindi_65.csv      67\n",
       "                  ... \n",
       "Nyamira_67.csv       1\n",
       "Milimani_77.csv      1\n",
       "Nyamira_9.csv        1\n",
       "Nakuru_23.csv        1\n",
       "Mombasa_36.csv       1\n",
       "Name: count, Length: 64, dtype: int64"
      ]
     },
     "execution_count": 15,
     "metadata": {},
     "output_type": "execute_result"
    }
   ],
   "source": [
    "#resolved by court name\n",
    "resolved_court = combined_csv.groupby(['court_name'])['resolved'].sum().reset_index()\n",
    "resolved_court['resolved'] = resolved_court['resolved'].astype(int)\n",
    "\n",
    "resolved_court = resolved_court.sort_values(by=['court_name'], ascending=True)\n",
    "\n",
    "resolved_data = combined_csv[combined_csv['resolved'] == 1]\n",
    "\n",
    "resolved_data['court_name'].value_counts()"
   ]
  },
  {
   "cell_type": "code",
   "execution_count": 16,
   "metadata": {},
   "outputs": [
    {
     "name": "stderr",
     "output_type": "stream",
     "text": [
      "/var/folders/5q/4jwyrq8j3_95g9th989sqyfw0000gn/T/ipykernel_30001/2198342833.py:7: SettingWithCopyWarning: \n",
      "A value is trying to be set on a copy of a slice from a DataFrame.\n",
      "Try using .loc[row_indexer,col_indexer] = value instead\n",
      "\n",
      "See the caveats in the documentation: https://pandas.pydata.org/pandas-docs/stable/user_guide/indexing.html#returning-a-view-versus-a-copy\n",
      "  resolved_data.loc[:, 'time_to_resolve'] = resolved_data['activity_date'] - resolved_data['filed_date']\n",
      "/var/folders/5q/4jwyrq8j3_95g9th989sqyfw0000gn/T/ipykernel_30001/2198342833.py:12: SettingWithCopyWarning: \n",
      "A value is trying to be set on a copy of a slice from a DataFrame.\n",
      "Try using .loc[row_indexer,col_indexer] = value instead\n",
      "\n",
      "See the caveats in the documentation: https://pandas.pydata.org/pandas-docs/stable/user_guide/indexing.html#returning-a-view-versus-a-copy\n",
      "  resolved_data['time_to_resolve'] = resolved_data['time_to_resolve'].dt.days\n",
      "/var/folders/5q/4jwyrq8j3_95g9th989sqyfw0000gn/T/ipykernel_30001/2198342833.py:13: SettingWithCopyWarning: \n",
      "A value is trying to be set on a copy of a slice from a DataFrame.\n",
      "Try using .loc[row_indexer,col_indexer] = value instead\n",
      "\n",
      "See the caveats in the documentation: https://pandas.pydata.org/pandas-docs/stable/user_guide/indexing.html#returning-a-view-versus-a-copy\n",
      "  resolved_data['time_to_resolve'] = resolved_data['time_to_resolve'].fillna(0).astype(int)\n"
     ]
    },
    {
     "data": {
      "text/plain": [
       "time_to_resolve\n",
       "31      44\n",
       "9       34\n",
       "30      32\n",
       "22      30\n",
       "23      26\n",
       "        ..\n",
       "1036     1\n",
       "699      1\n",
       "1818     1\n",
       "978      1\n",
       "1548     1\n",
       "Name: count, Length: 568, dtype: int64"
      ]
     },
     "execution_count": 16,
     "metadata": {},
     "output_type": "execute_result"
    }
   ],
   "source": [
    "# generate age of resolved cases\n",
    "\n",
    "def time_to_resolve(resolved_data):\n",
    "    time_to_resolve = []\n",
    "    for i in resolved_data['court_name']:\n",
    "        time_to_resolve.append(i)\n",
    "    resolved_data.loc[:, 'time_to_resolve'] = resolved_data['activity_date'] - resolved_data['filed_date']\n",
    "    return resolved_data\n",
    "\n",
    "resolved_data = time_to_resolve(resolved_data)\n",
    "\n",
    "resolved_data['time_to_resolve'] = resolved_data['time_to_resolve'].dt.days\n",
    "resolved_data['time_to_resolve'] = resolved_data['time_to_resolve'].fillna(0).astype(int)\n",
    "\n",
    "#drop if time to resolve is less than 0\n",
    "resolved_data = resolved_data[resolved_data['time_to_resolve'] >= 0]\n",
    "\n",
    "resolved_data['time_to_resolve'].value_counts()"
   ]
  },
  {
   "cell_type": "code",
   "execution_count": 17,
   "metadata": {},
   "outputs": [],
   "source": [
    "#combine  'bench_1', 'bench_2', 'bench_3', 'bench_4', 'bench_5', 'bench_6','bench_7 as a single column\n",
    "resolved_data['bench'] = resolved_data[['bench_1', 'bench_2', 'bench_3', 'bench_4', 'bench_5', 'bench_6', 'bench_7']].apply(lambda x: ','.join(x.dropna().astype(str)), axis=1)\n"
   ]
  },
  {
   "cell_type": "code",
   "execution_count": 18,
   "metadata": {},
   "outputs": [
    {
     "data": {
      "text/plain": [
       "bench\n",
       "Otieno, Patrick              101\n",
       "Ndung'u, Anthony              98\n",
       "Githinji, Stephen             64\n",
       "Ogola, Daniel Ogembo          52\n",
       "Gitari, Lucy                  32\n",
       "                            ... \n",
       "Karani, Elizabeth Wairimu      1\n",
       "Waswa, Cyprian  Wafula         1\n",
       " Mati, Martin Muya             1\n",
       " Mulwa, Janet                  1\n",
       "Menya, Christine Achieng       1\n",
       "Name: count, Length: 103, dtype: int64"
      ]
     },
     "execution_count": 18,
     "metadata": {},
     "output_type": "execute_result"
    }
   ],
   "source": [
    "resolved_data['bench'].value_counts()"
   ]
  },
  {
   "cell_type": "code",
   "execution_count": 19,
   "metadata": {},
   "outputs": [
    {
     "data": {
      "text/html": [
       "<div>\n",
       "<style scoped>\n",
       "    .dataframe tbody tr th:only-of-type {\n",
       "        vertical-align: middle;\n",
       "    }\n",
       "\n",
       "    .dataframe tbody tr th {\n",
       "        vertical-align: top;\n",
       "    }\n",
       "\n",
       "    .dataframe thead th {\n",
       "        text-align: right;\n",
       "    }\n",
       "</style>\n",
       "<table border=\"1\" class=\"dataframe\">\n",
       "  <thead>\n",
       "    <tr style=\"text-align: right;\">\n",
       "      <th></th>\n",
       "      <th>bench</th>\n",
       "      <th>case_nature</th>\n",
       "      <th>time_to_resolve</th>\n",
       "    </tr>\n",
       "  </thead>\n",
       "  <tbody>\n",
       "    <tr>\n",
       "      <th>125</th>\n",
       "      <td>Wamae, Thripsisa Cherere</td>\n",
       "      <td>CIVIL</td>\n",
       "      <td>9467</td>\n",
       "    </tr>\n",
       "    <tr>\n",
       "      <th>8</th>\n",
       "      <td>Mati, Martin Muya</td>\n",
       "      <td>CIVIL</td>\n",
       "      <td>6512</td>\n",
       "    </tr>\n",
       "    <tr>\n",
       "      <th>92</th>\n",
       "      <td>Odero, Maureen Akinyi</td>\n",
       "      <td>CIVIL</td>\n",
       "      <td>6505</td>\n",
       "    </tr>\n",
       "    <tr>\n",
       "      <th>106</th>\n",
       "      <td>Otieno, Patrick</td>\n",
       "      <td>CIVIL</td>\n",
       "      <td>6344</td>\n",
       "    </tr>\n",
       "    <tr>\n",
       "      <th>51</th>\n",
       "      <td>Masiga, James Jesse</td>\n",
       "      <td>CIVIL</td>\n",
       "      <td>6334</td>\n",
       "    </tr>\n",
       "    <tr>\n",
       "      <th>...</th>\n",
       "      <td>...</td>\n",
       "      <td>...</td>\n",
       "      <td>...</td>\n",
       "    </tr>\n",
       "    <tr>\n",
       "      <th>120</th>\n",
       "      <td>Thande, Mugure</td>\n",
       "      <td>CRIMINAL</td>\n",
       "      <td>13</td>\n",
       "    </tr>\n",
       "    <tr>\n",
       "      <th>78</th>\n",
       "      <td>Njuguna, Lucy Mwihaki</td>\n",
       "      <td>CIVIL</td>\n",
       "      <td>12</td>\n",
       "    </tr>\n",
       "    <tr>\n",
       "      <th>67</th>\n",
       "      <td>Mutuku, Stella Ngali</td>\n",
       "      <td>CIVIL</td>\n",
       "      <td>12</td>\n",
       "    </tr>\n",
       "    <tr>\n",
       "      <th>124</th>\n",
       "      <td>Wakiaga, James</td>\n",
       "      <td>CRIMINAL</td>\n",
       "      <td>10</td>\n",
       "    </tr>\n",
       "    <tr>\n",
       "      <th>23</th>\n",
       "      <td>Chepkwony, Dorah O.</td>\n",
       "      <td>CRIMINAL</td>\n",
       "      <td>4</td>\n",
       "    </tr>\n",
       "  </tbody>\n",
       "</table>\n",
       "<p>130 rows × 3 columns</p>\n",
       "</div>"
      ],
      "text/plain": [
       "                        bench case_nature  time_to_resolve\n",
       "125  Wamae, Thripsisa Cherere       CIVIL             9467\n",
       "8           Mati, Martin Muya       CIVIL             6512\n",
       "92      Odero, Maureen Akinyi       CIVIL             6505\n",
       "106           Otieno, Patrick       CIVIL             6344\n",
       "51        Masiga, James Jesse       CIVIL             6334\n",
       "..                        ...         ...              ...\n",
       "120            Thande, Mugure    CRIMINAL               13\n",
       "78      Njuguna, Lucy Mwihaki       CIVIL               12\n",
       "67       Mutuku, Stella Ngali       CIVIL               12\n",
       "124            Wakiaga, James    CRIMINAL               10\n",
       "23        Chepkwony, Dorah O.    CRIMINAL                4\n",
       "\n",
       "[130 rows x 3 columns]"
      ]
     },
     "execution_count": 19,
     "metadata": {},
     "output_type": "execute_result"
    }
   ],
   "source": [
    "#generate mean time to resolve for each bench by case nature\n",
    "bench_mean_time = resolved_data.groupby(['bench', 'case_nature'])['time_to_resolve'].mean().reset_index()\n",
    "bench_mean_time['time_to_resolve'] = bench_mean_time['time_to_resolve'].astype(int)\n",
    "bench_mean_time = bench_mean_time.sort_values(by=['time_to_resolve'], ascending=False)\n",
    "bench_mean_time\n",
    "\n"
   ]
  },
  {
   "cell_type": "code",
   "execution_count": 20,
   "metadata": {},
   "outputs": [
    {
     "data": {
      "text/plain": [
       "'def merit_resolution(resolved_data):\\n    merit = []\\n    other = []\\n    for i in resolved_data[\\'outcome\\']:\\n        if \"JUDGMENT DELIVERED\" in i or \"RULING DELIVERED- CASE CLOSED\" in i:\\n            merit.append(1)\\n            other.append(0)\\n        else:\\n            merit.append(0)\\n            other.append(1)\\n    resolved_data[\\'merit_resolution\\'] = merit\\n    resolved_data[\\'other_resolution\\'] = other\\n    return resolved_data\\n\\nresolved_data = merit_resolution(resolved_data)'"
      ]
     },
     "execution_count": 20,
     "metadata": {},
     "output_type": "execute_result"
    }
   ],
   "source": [
    "'''def merit_resolution(resolved_data):\n",
    "    merit = []\n",
    "    other = []\n",
    "    for i in resolved_data['outcome']:\n",
    "        if \"JUDGMENT DELIVERED\" in i or \"RULING DELIVERED- CASE CLOSED\" in i:\n",
    "            merit.append(1)\n",
    "            other.append(0)\n",
    "        else:\n",
    "            merit.append(0)\n",
    "            other.append(1)\n",
    "    resolved_data['merit_resolution'] = merit\n",
    "    resolved_data['other_resolution'] = other\n",
    "    return resolved_data\n",
    "\n",
    "resolved_data = merit_resolution(resolved_data)'''\n"
   ]
  },
  {
   "cell_type": "code",
   "execution_count": 21,
   "metadata": {},
   "outputs": [],
   "source": [
    "def merit_resolution(resolved_data):\n",
    "    resolution_nature = []\n",
    "    for i in resolved_data['outcome']:\n",
    "        if \"JUDGMENT DELIVERED\" in i or \"RULING DELIVERED- CASE CLOSED\" in i:\n",
    "            resolution_nature.append('merit')\n",
    "        else:\n",
    "            resolution_nature.append('other')\n",
    "    resolved_data['resolution_nature'] = resolution_nature\n",
    "    return resolved_data\n",
    "\n",
    "resolved_data = merit_resolution(resolved_data)"
   ]
  },
  {
   "cell_type": "code",
   "execution_count": 22,
   "metadata": {},
   "outputs": [
    {
     "data": {
      "text/plain": [
       "resolution_nature\n",
       "other    669\n",
       "merit    385\n",
       "Name: count, dtype: int64"
      ]
     },
     "execution_count": 22,
     "metadata": {},
     "output_type": "execute_result"
    }
   ],
   "source": [
    "resolved_data['resolution_nature'].value_counts()"
   ]
  },
  {
   "cell_type": "code",
   "execution_count": 23,
   "metadata": {},
   "outputs": [
    {
     "data": {
      "text/plain": [
       "resolution_case_nature\n",
       "other_civil       424\n",
       "other_criminal    245\n",
       "merit_criminal    231\n",
       "merit_civil       154\n",
       "Name: count, dtype: int64"
      ]
     },
     "execution_count": 23,
     "metadata": {},
     "output_type": "execute_result"
    }
   ],
   "source": [
    "#function to create a column for resolution case nature using resolution nature and case nature\n",
    "def resolution_case_nature(resolved_data):\n",
    "    resolution_case_nature = []\n",
    "    for i, row in resolved_data.iterrows():\n",
    "        if row['resolution_nature'] == 'merit' and row['case_nature'] == 'CRIMINAL':\n",
    "            resolution_case_nature.append('merit_criminal')\n",
    "        elif row['resolution_nature'] == 'merit' and row['case_nature'] == 'CIVIL':\n",
    "            resolution_case_nature.append('merit_civil')\n",
    "        elif row['resolution_nature'] == 'other' and row['case_nature'] == 'CRIMINAL':\n",
    "            resolution_case_nature.append('other_criminal')\n",
    "        else:\n",
    "            row['resolution_nature'] == 'other' and row['case_nature'] == 'CIVIL'\n",
    "            resolution_case_nature.append('other_civil')\n",
    "    resolved_data['resolution_case_nature'] = resolution_case_nature\n",
    "    return resolved_data\n",
    "\n",
    "resolved_data = resolution_case_nature(resolved_data)\n",
    "\n",
    "resolved_data['resolution_case_nature'].value_counts()"
   ]
  },
  {
   "cell_type": "code",
   "execution_count": 24,
   "metadata": {},
   "outputs": [
    {
     "data": {
      "text/html": [
       "<div>\n",
       "<style scoped>\n",
       "    .dataframe tbody tr th:only-of-type {\n",
       "        vertical-align: middle;\n",
       "    }\n",
       "\n",
       "    .dataframe tbody tr th {\n",
       "        vertical-align: top;\n",
       "    }\n",
       "\n",
       "    .dataframe thead th {\n",
       "        text-align: right;\n",
       "    }\n",
       "</style>\n",
       "<table border=\"1\" class=\"dataframe\">\n",
       "  <thead>\n",
       "    <tr style=\"text-align: right;\">\n",
       "      <th></th>\n",
       "      <th>Bench</th>\n",
       "      <th>Merit Civil</th>\n",
       "      <th>Merit Criminal</th>\n",
       "      <th>Others Civil</th>\n",
       "      <th>Other Criminal</th>\n",
       "    </tr>\n",
       "  </thead>\n",
       "  <tbody>\n",
       "    <tr>\n",
       "      <th>80</th>\n",
       "      <td>Ongeri, Asenath</td>\n",
       "      <td>19</td>\n",
       "      <td>0</td>\n",
       "      <td>7</td>\n",
       "      <td>0</td>\n",
       "    </tr>\n",
       "    <tr>\n",
       "      <th>17</th>\n",
       "      <td>Chigiti,john Mugwimi</td>\n",
       "      <td>13</td>\n",
       "      <td>0</td>\n",
       "      <td>3</td>\n",
       "      <td>0</td>\n",
       "    </tr>\n",
       "    <tr>\n",
       "      <th>14</th>\n",
       "      <td>Chembeni, Louser Adisa</td>\n",
       "      <td>11</td>\n",
       "      <td>0</td>\n",
       "      <td>9</td>\n",
       "      <td>0</td>\n",
       "    </tr>\n",
       "    <tr>\n",
       "      <th>64</th>\n",
       "      <td>Noelyne, Reuben Akee</td>\n",
       "      <td>10</td>\n",
       "      <td>0</td>\n",
       "      <td>6</td>\n",
       "      <td>0</td>\n",
       "    </tr>\n",
       "    <tr>\n",
       "      <th>22</th>\n",
       "      <td>Githogori, Stephany W.</td>\n",
       "      <td>9</td>\n",
       "      <td>0</td>\n",
       "      <td>4</td>\n",
       "      <td>0</td>\n",
       "    </tr>\n",
       "    <tr>\n",
       "      <th>...</th>\n",
       "      <td>...</td>\n",
       "      <td>...</td>\n",
       "      <td>...</td>\n",
       "      <td>...</td>\n",
       "      <td>...</td>\n",
       "    </tr>\n",
       "    <tr>\n",
       "      <th>49</th>\n",
       "      <td>Musya, Musyoka William</td>\n",
       "      <td>0</td>\n",
       "      <td>0</td>\n",
       "      <td>0</td>\n",
       "      <td>10</td>\n",
       "    </tr>\n",
       "    <tr>\n",
       "      <th>26</th>\n",
       "      <td>Karanja, Joseph R.</td>\n",
       "      <td>0</td>\n",
       "      <td>0</td>\n",
       "      <td>0</td>\n",
       "      <td>3</td>\n",
       "    </tr>\n",
       "    <tr>\n",
       "      <th>32</th>\n",
       "      <td>Kimondo, Kanyi</td>\n",
       "      <td>0</td>\n",
       "      <td>0</td>\n",
       "      <td>0</td>\n",
       "      <td>3</td>\n",
       "    </tr>\n",
       "    <tr>\n",
       "      <th>52</th>\n",
       "      <td>Mutende, Lilian Nambwire</td>\n",
       "      <td>0</td>\n",
       "      <td>0</td>\n",
       "      <td>0</td>\n",
       "      <td>3</td>\n",
       "    </tr>\n",
       "    <tr>\n",
       "      <th>56</th>\n",
       "      <td>Mwongo, Richard Mururu</td>\n",
       "      <td>0</td>\n",
       "      <td>0</td>\n",
       "      <td>0</td>\n",
       "      <td>2</td>\n",
       "    </tr>\n",
       "  </tbody>\n",
       "</table>\n",
       "<p>103 rows × 5 columns</p>\n",
       "</div>"
      ],
      "text/plain": [
       "                       Bench  Merit Civil  Merit Criminal  Others Civil  \\\n",
       "80           Ongeri, Asenath           19               0             7   \n",
       "17      Chigiti,john Mugwimi           13               0             3   \n",
       "14    Chembeni, Louser Adisa           11               0             9   \n",
       "64      Noelyne, Reuben Akee           10               0             6   \n",
       "22    Githogori, Stephany W.            9               0             4   \n",
       "..                       ...          ...             ...           ...   \n",
       "49    Musya, Musyoka William            0               0             0   \n",
       "26        Karanja, Joseph R.            0               0             0   \n",
       "32            Kimondo, Kanyi            0               0             0   \n",
       "52  Mutende, Lilian Nambwire            0               0             0   \n",
       "56    Mwongo, Richard Mururu            0               0             0   \n",
       "\n",
       "    Other Criminal  \n",
       "80               0  \n",
       "17               0  \n",
       "14               0  \n",
       "64               0  \n",
       "22               0  \n",
       "..             ...  \n",
       "49              10  \n",
       "26               3  \n",
       "32               3  \n",
       "52               3  \n",
       "56               2  \n",
       "\n",
       "[103 rows x 5 columns]"
      ]
     },
     "execution_count": 24,
     "metadata": {},
     "output_type": "execute_result"
    }
   ],
   "source": [
    "#resolution case nature by bench\n",
    "resolution_bench = resolved_data.groupby(['bench', 'resolution_case_nature'])['case_identifier'].count().reset_index()\n",
    "resolution_bench = resolution_bench.sort_values(by=['case_identifier'], ascending=False)\n",
    "resolution_bench\n",
    "\n",
    "#pivot table for resolution case nature by bench\n",
    "resolution_bench_pivot = resolved_data.pivot_table(index='bench', columns='resolution_case_nature', values='case_identifier', aggfunc='count').reset_index()\n",
    "resolution_bench_pivot = resolution_bench_pivot.fillna(0)\n",
    "resolution_bench_pivot = resolution_bench_pivot.sort_values(by=['merit_civil', 'merit_criminal', 'other_civil', 'other_criminal'], ascending=False)\n",
    "resolution_bench_pivot\n",
    "\n",
    "#change to integer\n",
    "resolution_bench_pivot['merit_civil'] = resolution_bench_pivot['merit_civil'].astype(int)\n",
    "resolution_bench_pivot['merit_criminal'] = resolution_bench_pivot['merit_criminal'].astype(int)\n",
    "resolution_bench_pivot['other_civil'] = resolution_bench_pivot['other_civil'].astype(int)\n",
    "resolution_bench_pivot['other_criminal'] = resolution_bench_pivot['other_criminal'].astype(int)\n",
    "resolution_bench_pivot\n",
    "\n",
    "#rename columns\n",
    "resolution_bench_pivot.columns = ['Bench', 'Merit Civil', 'Merit Criminal', 'Others Civil', 'Other Criminal']\n",
    "resolution_bench_pivot"
   ]
  },
  {
   "cell_type": "code",
   "execution_count": 25,
   "metadata": {},
   "outputs": [
    {
     "data": {
      "text/html": [
       "<div>\n",
       "<style scoped>\n",
       "    .dataframe tbody tr th:only-of-type {\n",
       "        vertical-align: middle;\n",
       "    }\n",
       "\n",
       "    .dataframe tbody tr th {\n",
       "        vertical-align: top;\n",
       "    }\n",
       "\n",
       "    .dataframe thead th {\n",
       "        text-align: right;\n",
       "    }\n",
       "</style>\n",
       "<table border=\"1\" class=\"dataframe\">\n",
       "  <thead>\n",
       "    <tr style=\"text-align: right;\">\n",
       "      <th></th>\n",
       "      <th>Bench</th>\n",
       "      <th>Merit Civil Timelines</th>\n",
       "      <th>Merit Criminal Timelines</th>\n",
       "      <th>Others Civil Timelines</th>\n",
       "      <th>Other Criminal Timelines</th>\n",
       "    </tr>\n",
       "  </thead>\n",
       "  <tbody>\n",
       "    <tr>\n",
       "      <th>40</th>\n",
       "      <td>Masiga, James Jesse</td>\n",
       "      <td>6334</td>\n",
       "      <td>0</td>\n",
       "      <td>0</td>\n",
       "      <td>0</td>\n",
       "    </tr>\n",
       "    <tr>\n",
       "      <th>72</th>\n",
       "      <td>Odera, Teresia Achieng</td>\n",
       "      <td>4907</td>\n",
       "      <td>59</td>\n",
       "      <td>0</td>\n",
       "      <td>381</td>\n",
       "    </tr>\n",
       "    <tr>\n",
       "      <th>76</th>\n",
       "      <td>Ogola, Eric Kennedy O.</td>\n",
       "      <td>4701</td>\n",
       "      <td>0</td>\n",
       "      <td>3145</td>\n",
       "      <td>0</td>\n",
       "    </tr>\n",
       "    <tr>\n",
       "      <th>59</th>\n",
       "      <td>Nganga, Catherine</td>\n",
       "      <td>3509</td>\n",
       "      <td>0</td>\n",
       "      <td>3530</td>\n",
       "      <td>0</td>\n",
       "    </tr>\n",
       "    <tr>\n",
       "      <th>80</th>\n",
       "      <td>Ongeri, Asenath</td>\n",
       "      <td>3088</td>\n",
       "      <td>0</td>\n",
       "      <td>623</td>\n",
       "      <td>0</td>\n",
       "    </tr>\n",
       "    <tr>\n",
       "      <th>...</th>\n",
       "      <td>...</td>\n",
       "      <td>...</td>\n",
       "      <td>...</td>\n",
       "      <td>...</td>\n",
       "      <td>...</td>\n",
       "    </tr>\n",
       "    <tr>\n",
       "      <th>49</th>\n",
       "      <td>Musya, Musyoka William</td>\n",
       "      <td>0</td>\n",
       "      <td>0</td>\n",
       "      <td>0</td>\n",
       "      <td>337</td>\n",
       "    </tr>\n",
       "    <tr>\n",
       "      <th>26</th>\n",
       "      <td>Karanja, Joseph R.</td>\n",
       "      <td>0</td>\n",
       "      <td>0</td>\n",
       "      <td>0</td>\n",
       "      <td>290</td>\n",
       "    </tr>\n",
       "    <tr>\n",
       "      <th>56</th>\n",
       "      <td>Mwongo, Richard Mururu</td>\n",
       "      <td>0</td>\n",
       "      <td>0</td>\n",
       "      <td>0</td>\n",
       "      <td>265</td>\n",
       "    </tr>\n",
       "    <tr>\n",
       "      <th>52</th>\n",
       "      <td>Mutende, Lilian Nambwire</td>\n",
       "      <td>0</td>\n",
       "      <td>0</td>\n",
       "      <td>0</td>\n",
       "      <td>89</td>\n",
       "    </tr>\n",
       "    <tr>\n",
       "      <th>32</th>\n",
       "      <td>Kimondo, Kanyi</td>\n",
       "      <td>0</td>\n",
       "      <td>0</td>\n",
       "      <td>0</td>\n",
       "      <td>17</td>\n",
       "    </tr>\n",
       "  </tbody>\n",
       "</table>\n",
       "<p>103 rows × 5 columns</p>\n",
       "</div>"
      ],
      "text/plain": [
       "                       Bench  Merit Civil Timelines  Merit Criminal Timelines  \\\n",
       "40       Masiga, James Jesse                   6334                         0   \n",
       "72    Odera, Teresia Achieng                   4907                        59   \n",
       "76    Ogola, Eric Kennedy O.                   4701                         0   \n",
       "59         Nganga, Catherine                   3509                         0   \n",
       "80           Ongeri, Asenath                   3088                         0   \n",
       "..                       ...                    ...                       ...   \n",
       "49    Musya, Musyoka William                      0                         0   \n",
       "26        Karanja, Joseph R.                      0                         0   \n",
       "56    Mwongo, Richard Mururu                      0                         0   \n",
       "52  Mutende, Lilian Nambwire                      0                         0   \n",
       "32            Kimondo, Kanyi                      0                         0   \n",
       "\n",
       "    Others Civil Timelines  Other Criminal Timelines  \n",
       "40                       0                         0  \n",
       "72                       0                       381  \n",
       "76                    3145                         0  \n",
       "59                    3530                         0  \n",
       "80                     623                         0  \n",
       "..                     ...                       ...  \n",
       "49                       0                       337  \n",
       "26                       0                       290  \n",
       "56                       0                       265  \n",
       "52                       0                        89  \n",
       "32                       0                        17  \n",
       "\n",
       "[103 rows x 5 columns]"
      ]
     },
     "execution_count": 25,
     "metadata": {},
     "output_type": "execute_result"
    }
   ],
   "source": [
    "#generate mean time to resolve for each bench by resolution case nature\n",
    "bench_mean_time_resolution = resolved_data.groupby(['bench', 'resolution_case_nature'])['time_to_resolve'].mean().reset_index()\n",
    "bench_mean_time_resolution['time_to_resolve'] = bench_mean_time_resolution['time_to_resolve'].astype(int)\n",
    "bench_mean_time_resolution = bench_mean_time_resolution.sort_values(by=['time_to_resolve'], ascending=False)\n",
    "bench_mean_time_resolution\n",
    "\n",
    "#pivot table for mean time to resolve by bench and resolution case nature\n",
    "bench_mean_time_resolution_pivot = resolved_data.pivot_table(index='bench', columns='resolution_case_nature', values='time_to_resolve', aggfunc='mean').reset_index()\n",
    "bench_mean_time_resolution_pivot = bench_mean_time_resolution_pivot.fillna(0)\n",
    "bench_mean_time_resolution_pivot = bench_mean_time_resolution_pivot.sort_values(by=['merit_civil', 'merit_criminal', 'other_civil', 'other_criminal'], ascending=False)\n",
    "bench_mean_time_resolution_pivot\n",
    "\n",
    "#change to integer\n",
    "bench_mean_time_resolution_pivot['merit_civil'] = bench_mean_time_resolution_pivot['merit_civil'].astype(int)\n",
    "bench_mean_time_resolution_pivot['merit_criminal'] = bench_mean_time_resolution_pivot['merit_criminal'].astype(int)\n",
    "bench_mean_time_resolution_pivot['other_civil'] = bench_mean_time_resolution_pivot['other_civil'].astype(int)\n",
    "bench_mean_time_resolution_pivot['other_criminal'] = bench_mean_time_resolution_pivot['other_criminal'].astype(int)\n",
    "bench_mean_time_resolution_pivot\n",
    "\n",
    "#rename columns\n",
    "bench_mean_time_resolution_pivot.columns = ['Bench', 'Merit Civil Timelines', 'Merit Criminal Timelines', 'Others Civil Timelines', 'Other Criminal Timelines']\n",
    "bench_mean_time_resolution_pivot"
   ]
  },
  {
   "cell_type": "code",
   "execution_count": 26,
   "metadata": {},
   "outputs": [],
   "source": [
    "#merge bench resolution time and bench resolution\n",
    "bench_performance = pd.merge(resolution_bench_pivot, bench_mean_time_resolution_pivot, on='Bench', how='inner')\n",
    "bench_performance\n",
    "\n",
    "#save the combined file as a csv\n",
    "bench_performance.to_csv(f'{path}/raw data/bench_performance.csv', index=False)"
   ]
  }
 ],
 "metadata": {
  "kernelspec": {
   "display_name": "Python 3",
   "language": "python",
   "name": "python3"
  },
  "language_info": {
   "codemirror_mode": {
    "name": "ipython",
    "version": 3
   },
   "file_extension": ".py",
   "mimetype": "text/x-python",
   "name": "python",
   "nbconvert_exporter": "python",
   "pygments_lexer": "ipython3",
   "version": "3.9.6"
  }
 },
 "nbformat": 4,
 "nbformat_minor": 2
}
