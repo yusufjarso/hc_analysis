{
 "cells": [
  {
   "cell_type": "code",
   "execution_count": null,
   "metadata": {},
   "outputs": [],
   "source": [
    "# Use glob to list all CSV files in the folder\n",
    "csv_files = glob.glob(path + \"/*.csv\")\n",
    "# Count the number of CSV files\n",
    "num_csv_files = len(csv_files)\n",
    "\n",
    "print(f\"Number of CSV files in the folder: {num_csv_files}\")"
   ]
  }
 ],
 "metadata": {
  "language_info": {
   "name": "python"
  }
 },
 "nbformat": 4,
 "nbformat_minor": 2
}
