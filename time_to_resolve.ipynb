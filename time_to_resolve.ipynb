{
 "cells": [
  {
   "cell_type": "code",
   "execution_count": null,
   "metadata": {},
   "outputs": [],
   "source": [
    "# generate age of resolved cases\n",
    "\n",
    "def time_to_resolve(resolved_data):\n",
    "    time_to_resolve = []\n",
    "    for i in resolved_data['court_name']:\n",
    "        time_to_resolve.append(i)\n",
    "    resolved_data.loc[:, 'time_to_resolve'] = resolved_data['activity_date'] - resolved_data['filed_date']\n",
    "    return resolved_data"
   ]
  }
 ],
 "metadata": {
  "language_info": {
   "name": "python"
  }
 },
 "nbformat": 4,
 "nbformat_minor": 2
}
