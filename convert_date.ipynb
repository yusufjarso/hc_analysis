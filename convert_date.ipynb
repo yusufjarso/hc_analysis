{
 "cells": [
  {
   "cell_type": "code",
   "execution_count": null,
   "metadata": {},
   "outputs": [],
   "source": [
    "import pandas as pd\n",
    "import os \n",
    "import glob\n",
    "import pandas as pd\n",
    "import pandas as pd\n",
    "import numpy as np\n",
    "import matplotlib.pyplot as plt\n",
    "import seaborn as sns\n",
    "import openpyxl\n",
    "import datetime \n",
    "\n",
    "# Assuming 'path' contains the path to your CSV file\n",
    "csv_file = f'{path}/raw data/HC_combined.csv'\n",
    "\n",
    "# Specify dtype for columns 15 and 16 as string\n",
    "dtype_specification = {15: str, 16: str}\n",
    "\n",
    "# Read the CSV file with dtype specified\n",
    "combined_csv = pd.read_csv(csv_file, dtype=dtype_specification)\n",
    "\n",
    "def convert_to_datetime(combined_csv, day_col, month_col, year_col, new_col, index):\n",
    "    date_str = combined_csv[day_col].astype(str) + \"-\" + combined_csv[month_col] + \"-\" + combined_csv[year_col].astype(str)\n",
    "    combined_csv[new_col] = pd.to_datetime(date_str, format=\"%d-%b-%Y\", errors=\"coerce\")\n",
    "    #data.insert(index, new_col, data.pop(new_col))\n",
    "    return combined_csv\n",
    "\n",
    "combined_csv = convert_to_datetime(combined_csv, \"date_dd\", \"date_mon\", \"date_yyyy\", \"activity_date\", 2)\n",
    "combined_csv = convert_to_datetime(combined_csv, \"filed_dd\", \"filed_mon\", \"filed_yyyy\", \"filed_date\", 3)\n",
    "for i in combined_csv['next_dd'].unique():\n",
    "    if i == \" \":\n",
    "        combined_csv.loc[combined_csv[['next_dd', 'next_mon', 'next_yyyy']] == i, 'next_dd', 'next_mon', 'next_yyyy'] = \"\"\n",
    "    else:\n",
    "        combined_csv = convert_to_datetime(combined_csv, \"next_dd\", \"next_mon\", \"next_yyyy\", \"next_date\", 4)\n",
    "        \n",
    "# Display value counts of 'activity_date'\n",
    "print(combined_csv['activity_date'].value_counts())\n",
    "\n",
    "\n",
    "#save the combined file as a csv\n",
    "combined_csv.to_csv(f'{path}/raw data/HC_combined.csv', index=False)"
   ]
  }
 ],
 "metadata": {
  "language_info": {
   "name": "python"
  }
 },
 "nbformat": 4,
 "nbformat_minor": 2
}
