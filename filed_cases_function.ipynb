{
 "cells": [
  {
   "cell_type": "code",
   "execution_count": null,
   "metadata": {},
   "outputs": [],
   "source": [
    "#generate function to generate filed cases width activity date before filed date\n",
    "def filed_cases(combined_csv):\n",
    "    filed = []\n",
    "    for i, row in combined_csv.iterrows():\n",
    "        if \"Case Registered/Filed\" in str(row['outcome']) and row['activity_date'] >= row['filed_date']:\n",
    "            filed.append(1)\n",
    "        else:\n",
    "            filed.append(0)\n",
    "    combined_csv['filed'] = filed\n",
    "    return combined_csv\n",
    "\n",
    "combined_csv = filed_cases(combined_csv)\n",
    "\n",
    "#save the combined file as a csv\n",
    "combined_csv.to_csv(f'{path}/raw data/HC_combined.csv', index=False)\n",
    "\n",
    "\n",
    "print(combined_csv['filed'].value_counts())\n"
   ]
  }
 ],
 "metadata": {
  "language_info": {
   "name": "python"
  }
 },
 "nbformat": 4,
 "nbformat_minor": 2
}
