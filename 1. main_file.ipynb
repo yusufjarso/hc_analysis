{
 "cells": [
  {
   "cell_type": "markdown",
   "metadata": {},
   "source": [
    "# HIgh Court Data Analysis"
   ]
  },
  {
   "cell_type": "code",
   "execution_count": 20,
   "metadata": {},
   "outputs": [
    {
     "name": "stderr",
     "output_type": "stream",
     "text": [
      "/var/folders/5q/4jwyrq8j3_95g9th989sqyfw0000gn/T/ipykernel_40995/4023556651.py:52: FutureWarning: The behavior of DataFrame concatenation with empty or all-NA entries is deprecated. In a future version, this will no longer exclude empty or all-NA columns when determining the result dtypes. To retain the old behavior, exclude the relevant entries before the concat operation.\n",
      "  combined_csv = pd.concat(li, axis=0, ignore_index=True)\n"
     ]
    }
   ],
   "source": [
    "#This Code pick all excel file in the folder and convert to csv with the sheet name as court station name\n",
    "%run data_processing.ipynb"
   ]
  },
  {
   "cell_type": "code",
   "execution_count": 21,
   "metadata": {},
   "outputs": [
    {
     "name": "stderr",
     "output_type": "stream",
     "text": [
      "/var/folders/5q/4jwyrq8j3_95g9th989sqyfw0000gn/T/ipykernel_40995/4070705766.py:18: FutureWarning: The behavior of DataFrame concatenation with empty or all-NA entries is deprecated. In a future version, this will no longer exclude empty or all-NA columns when determining the result dtypes. To retain the old behavior, exclude the relevant entries before the concat operation.\n",
      "  combined_csv = pd.concat(li, axis=0, ignore_index=True)\n"
     ]
    }
   ],
   "source": [
    "#Combine into one file\n",
    "%run combine_file.ipynb"
   ]
  },
  {
   "cell_type": "code",
   "execution_count": 22,
   "metadata": {},
   "outputs": [
    {
     "name": "stdout",
     "output_type": "stream",
     "text": [
      "Number of CSV files in the folder: 78\n"
     ]
    }
   ],
   "source": [
    "%run check_total_file.ipynb"
   ]
  },
  {
   "cell_type": "code",
   "execution_count": 23,
   "metadata": {},
   "outputs": [],
   "source": [
    "%run rename_columns.ipynb"
   ]
  },
  {
   "cell_type": "code",
   "execution_count": 24,
   "metadata": {},
   "outputs": [
    {
     "name": "stdout",
     "output_type": "stream",
     "text": [
      "activity_date\n",
      "2024-04-09    2466\n",
      "2024-04-08    2273\n",
      "2024-04-11    2186\n",
      "2024-04-04    2183\n",
      "2024-04-15    1665\n",
      "              ... \n",
      "2024-04-06      25\n",
      "2024-05-01       5\n",
      "2024-04-07       4\n",
      "2024-06-02       1\n",
      "2024-06-09       1\n",
      "Name: count, Length: 69, dtype: int64\n"
     ]
    }
   ],
   "source": [
    "%run -i convert_date.ipynb\n"
   ]
  },
  {
   "cell_type": "code",
   "execution_count": null,
   "metadata": {},
   "outputs": [],
   "source": [
    "import pandas as pd\n",
    "path = '/Users/jud-05/Desktop/High Court/4Q combined/dcrt_4Q'\n",
    "combined_csv = pd.read_csv(f'{path}/raw data/HC_combined.csv')\n",
    "\n",
    "%run identifier_function.ipynb"
   ]
  },
  {
   "cell_type": "code",
   "execution_count": 32,
   "metadata": {},
   "outputs": [
    {
     "name": "stderr",
     "output_type": "stream",
     "text": [
      "/var/folders/5q/4jwyrq8j3_95g9th989sqyfw0000gn/T/ipykernel_40995/2965206242.py:3: DtypeWarning: Columns (16,17) have mixed types. Specify dtype option on import or set low_memory=False.\n",
      "  combined_csv = pd.read_csv(f'{path}/raw data/HC_combined.csv')\n"
     ]
    },
    {
     "name": "stdout",
     "output_type": "stream",
     "text": [
      "case_identifier\n",
      "Mombasa_HCCRC-E017/2023-08-29          11\n",
      "Homabay_HCCRC-E002/2024-01-17           7\n",
      "Bomet_HCCRC-30/2018-11-23               6\n",
      "Milimani_HCCHRPET-E181/2024-04-08       6\n",
      "Kakamega_HCCCMISC-E014/2022-02-04       6\n",
      "                                       ..\n",
      "Milimani_HCCOMMMISC-E036/2024-01-18     1\n",
      "Milimani_HCCOMMMISC-E038/2024-01-19     1\n",
      "Milimani_HCCOMMMISC-E040/2024-01-19     1\n",
      "Milimani_HCCOMMMISC-E050/2024-01-24     1\n",
      "Maralal_HCCRREV-E001/2024-02-15         1\n",
      "Name: count, Length: 46079, dtype: int64\n"
     ]
    }
   ],
   "source": [
    "%run identifier_function.ipynb"
   ]
  },
  {
   "cell_type": "code",
   "execution_count": 26,
   "metadata": {},
   "outputs": [
    {
     "name": "stderr",
     "output_type": "stream",
     "text": [
      "/var/folders/5q/4jwyrq8j3_95g9th989sqyfw0000gn/T/ipykernel_40995/3290869447.py:3: DtypeWarning: Columns (15,16) have mixed types. Specify dtype option on import or set low_memory=False.\n",
      "  combined_csv = pd.read_csv(f'{path}/raw data/HC_combined.csv')\n"
     ]
    },
    {
     "name": "stdout",
     "output_type": "stream",
     "text": [
      "activity_date\n",
      "2024-04-09    2466\n",
      "2024-04-08    2273\n",
      "2024-04-11    2186\n",
      "2024-04-04    2183\n",
      "2024-04-15    1665\n",
      "              ... \n",
      "2024-04-06      25\n",
      "2024-05-01       5\n",
      "2024-04-07       4\n",
      "2024-06-02       1\n",
      "2024-06-09       1\n",
      "Name: count, Length: 69, dtype: int64\n"
     ]
    }
   ],
   "source": [
    "import pandas as pd\n",
    "path = '/Users/jud-05/Desktop/High Court/4Q combined/dcrt_4Q'\n",
    "combined_csv = pd.read_csv(f'{path}/raw data/HC_combined.csv')\n",
    "\n",
    "%run convert_date.ipynb"
   ]
  },
  {
   "cell_type": "code",
   "execution_count": 27,
   "metadata": {},
   "outputs": [
    {
     "name": "stderr",
     "output_type": "stream",
     "text": [
      "/var/folders/5q/4jwyrq8j3_95g9th989sqyfw0000gn/T/ipykernel_40995/2402065623.py:3: DtypeWarning: Columns (15,16) have mixed types. Specify dtype option on import or set low_memory=False.\n",
      "  combined_csv = pd.read_csv(f'{path}/raw data/HC_combined.csv')\n"
     ]
    }
   ],
   "source": [
    "import pandas as pd\n",
    "path = '/Users/jud-05/Desktop/High Court/4Q combined/dcrt_4Q'\n",
    "combined_csv = pd.read_csv(f'{path}/raw data/HC_combined.csv')\n",
    "\n",
    "%run case_nature_function.ipynb"
   ]
  },
  {
   "cell_type": "code",
   "execution_count": 37,
   "metadata": {},
   "outputs": [
    {
     "name": "stderr",
     "output_type": "stream",
     "text": [
      "/var/folders/5q/4jwyrq8j3_95g9th989sqyfw0000gn/T/ipykernel_40995/1142526962.py:3: DtypeWarning: Columns (16,17) have mixed types. Specify dtype option on import or set low_memory=False.\n",
      "  combined_csv = pd.read_csv(f'{path}/raw data/HC_combined.csv')\n"
     ]
    },
    {
     "name": "stdout",
     "output_type": "stream",
     "text": [
      "filed\n",
      "0    52102\n",
      "1     1978\n",
      "Name: count, dtype: int64\n"
     ]
    }
   ],
   "source": [
    "import pandas as pd\n",
    "path = '/Users/jud-05/Desktop/High Court/4Q combined/dcrt_4Q'\n",
    "combined_csv = pd.read_csv(f'{path}/raw data/HC_combined.csv')\n",
    "\n",
    "%run filed_cases_function.ipynb"
   ]
  },
  {
   "cell_type": "code",
   "execution_count": 39,
   "metadata": {},
   "outputs": [
    {
     "name": "stderr",
     "output_type": "stream",
     "text": [
      "/var/folders/5q/4jwyrq8j3_95g9th989sqyfw0000gn/T/ipykernel_40995/3364535409.py:3: DtypeWarning: Columns (16,17) have mixed types. Specify dtype option on import or set low_memory=False.\n",
      "  combined_csv = pd.read_csv(f'{path}/raw data/HC_combined.csv')\n"
     ]
    },
    {
     "data": {
      "text/plain": [
       "1058"
      ]
     },
     "execution_count": 39,
     "metadata": {},
     "output_type": "execute_result"
    }
   ],
   "source": [
    "import pandas as pd\n",
    "path = '/Users/jud-05/Desktop/High Court/4Q combined/dcrt_4Q'\n",
    "combined_csv = pd.read_csv(f'{path}/raw data/HC_combined.csv')\n",
    "\n",
    "%run resolved_cases_function.ipynb\n",
    "\n",
    "\n",
    "total_resolved = combined_csv['resolved'].sum()\n",
    "combined_csv[['outcome', 'resolved']] [combined_csv['resolved'] == 1].value_counts()\n",
    "total_resolved"
   ]
  },
  {
   "cell_type": "code",
   "execution_count": null,
   "metadata": {},
   "outputs": [],
   "source": [
    "time_to_resolve.ipynb"
   ]
  }
 ],
 "metadata": {
  "kernelspec": {
   "display_name": "Python 3",
   "language": "python",
   "name": "python3"
  },
  "language_info": {
   "codemirror_mode": {
    "name": "ipython",
    "version": 3
   },
   "file_extension": ".py",
   "mimetype": "text/x-python",
   "name": "python",
   "nbconvert_exporter": "python",
   "pygments_lexer": "ipython3",
   "version": "3.9.6"
  }
 },
 "nbformat": 4,
 "nbformat_minor": 2
}
