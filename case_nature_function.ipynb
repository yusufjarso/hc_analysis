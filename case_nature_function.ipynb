{
 "cells": [
  {
   "cell_type": "code",
   "execution_count": null,
   "metadata": {},
   "outputs": [],
   "source": [
    "\n",
    "\n",
    "def create_case_nature(combined_csv, old_col, new_col, index):\n",
    "    case_nature = combined_csv[old_col].astype(str).apply(lambda x: \n",
    "        \"CRIMINAL\" if any(y in x for y in [\"CR\"]) \n",
    "        else \"CIVIL\")\n",
    "    combined_csv[new_col] = case_nature\n",
    "   #combined_csv.insert(index, new_col, combined_csv.pop(new_col))\n",
    "    return combined_csv\n",
    "combined_csv = create_case_nature(combined_csv, \"caseid_type\", \"case_nature\", 5)\n",
    "\n",
    "\n"
   ]
  }
 ],
 "metadata": {
  "language_info": {
   "name": "python"
  }
 },
 "nbformat": 4,
 "nbformat_minor": 2
}
