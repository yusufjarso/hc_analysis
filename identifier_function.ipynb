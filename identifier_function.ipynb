{
 "cells": [
  {
   "cell_type": "code",
   "execution_count": 1,
   "metadata": {},
   "outputs": [
    {
     "name": "stderr",
     "output_type": "stream",
     "text": [
      "/var/folders/5q/4jwyrq8j3_95g9th989sqyfw0000gn/T/ipykernel_41477/255288098.py:3: DtypeWarning: Columns (15,16) have mixed types. Specify dtype option on import or set low_memory=False.\n",
      "  combined_csv = pd.read_csv(f'{path}/raw data/HC_combined.csv')\n"
     ]
    },
    {
     "name": "stdout",
     "output_type": "stream",
     "text": [
      "case_identifier\n",
      "Mombasa_36.csv-HCCRC-E017/29          11\n",
      "Homabay_57.csv-HCCRC-E002/17           7\n",
      "Mombasa_10.csv-HCCHRPET-E012/27        6\n",
      "Bomet_51.csv-HCCRC-30/23               6\n",
      "Milimani_6.csv-HCCC-1068/7             6\n",
      "                                      ..\n",
      "Milimani_5.csv-HCCOMMMISC-E1009/28     1\n",
      "Milimani_5.csv-HCCOMMMISC-E1011/28     1\n",
      "Milimani_5.csv-HCCOMMMISC-E1016/1      1\n",
      "Milimani_5.csv-HCCOMMMISC-E1020/4      1\n",
      "Maralal_42.csv-HCCRREV-E001/15         1\n",
      "Name: count, Length: 45602, dtype: int64\n"
     ]
    }
   ],
   "source": [
    "import pandas as pd\n",
    "path = '/Users/jud-05/Desktop/High Court/4Q combined/dcrt_4Q'\n",
    "combined_csv = pd.read_csv(f'{path}/raw data/HC_combined.csv')\n",
    "#create unique case id\n",
    "\n",
    "\n",
    "#combined_csv[\"case_identifier\"] = combined_csv ['court_name'] + \"-\" + combined_csv[\"caseid_type\"]+ \"-\" + combined_csv[\"caseid_no\"].astype(str) + \"/\" + combined_csv[\"filed_dd\"].astype(str)\n",
    "\n",
    "\n",
    "# Remove everything after the last underscore in court_name\n",
    "combined_csv['court_name'] = combined_csv['court_name'].str.rsplit('_', n=1).str[0]\n",
    "\n",
    "# Remove file extension from court_name (assuming .csv extension)\n",
    "combined_csv['court_name'] = combined_csv['court_name'].apply(lambda x: os.path.splitext(x)[0])\n",
    "\n",
    "# Create the case_identifier column\n",
    "combined_csv[\"case_identifier\"] = combined_csv['court_name'] + \"_\" + combined_csv[\"caseid_type\"] + \"-\" + combined_csv[\"caseid_no\"].astype(str) + \"/\" + combined_csv[\"filed_date\"].astype(str)\n",
    "\n",
    "combined_csv.insert(1, \"case_identifier\", combined_csv.pop(\"case_identifier\"))\n",
    "\n",
    "#save the combined file as a csv\n",
    "combined_csv.to_csv(f'{path}/raw data/HC_combined.csv', index=False)\n",
    "\n",
    "print(combined_csv[\"case_identifier\"].value_counts())"
   ]
  }
 ],
 "metadata": {
  "kernelspec": {
   "display_name": "Python 3",
   "language": "python",
   "name": "python3"
  },
  "language_info": {
   "codemirror_mode": {
    "name": "ipython",
    "version": 3
   },
   "file_extension": ".py",
   "mimetype": "text/x-python",
   "name": "python",
   "nbconvert_exporter": "python",
   "pygments_lexer": "ipython3",
   "version": "3.9.6"
  }
 },
 "nbformat": 4,
 "nbformat_minor": 2
}
