{
 "cells": [
  {
   "cell_type": "code",
   "execution_count": null,
   "metadata": {},
   "outputs": [],
   "source": [
    "import pandas as pd\n",
    "import os \n",
    "import glob\n",
    "import pandas as pd\n",
    "import pandas as pd\n",
    "import numpy as np\n",
    "import matplotlib.pyplot as plt\n",
    "import seaborn as sns\n",
    "import openpyxl\n",
    "import datetime\n",
    "\n",
    "\n",
    "#  data.rename() function\n",
    "combined_csv.rename(columns={\n",
    "    'file_name': 'court_name',\n",
    "    'Day': 'date_dd',\n",
    "    'Month': 'date_mon',\n",
    "    'Year': 'date_yyyy',\n",
    "    'Code': 'caseid_type',\n",
    "    'No.': 'caseid_no',\n",
    "    'Day.1': 'filed_dd',\n",
    "    'Month.1': 'filed_mon',\n",
    "    'Year.1': 'filed_yyyy',\n",
    "    'Name of Court': 'origcourt',\n",
    "    'Code.1': 'appeal_type',\n",
    "    'No..1': 'appeal_no',\n",
    "    'Year.2': 'appeal_yyyy',\n",
    "    '\\n(Select)': 'case_type',\n",
    "    'Name of Judge 1 or Magistrate/DR or Kadhi': 'bench_1',\n",
    "    'Judge 2': 'bench_2',\n",
    "    'Judge 3': 'bench_3',\n",
    "    'Judge 4': 'bench_4',\n",
    "    'Judge 5': 'bench_5',\n",
    "    'Judge 6': 'bench_6',\n",
    "    'Judge 7': 'bench_7',\n",
    "    '(Select option)': 'comingfor',\n",
    "    '(Select option).1': 'outcome',\n",
    "    '(Select option).2': 'reason_adj',\n",
    "    'Day.2': 'next_dd',\n",
    "    'Month.2': 'next_mon',\n",
    "    'Year.3': 'next_yyyy',\n",
    "    'M': 'firstparty_m',\n",
    "    'F': 'firstparty_f',\n",
    "    'Org.': 'firstparty_org',\n",
    "    'M.1': 'secondparty_m',\n",
    "    'F.1': 'secondparty_f',\n",
    "    'Org..1': 'secondparty_o',\n",
    "    '(Y/N)': 'legalrep',\n",
    "    'P \\n(Enter No.)': 'p_witness',\n",
    "    'D\\n(Enter No.)': 'd_witness',\n",
    "    '(Enter No.)': 'custody',\n",
    "    '(Free text)': 'other_details'\n",
    "}, inplace=True)\n",
    "\n",
    "#save the combined file as a csv\n",
    "combined_csv.to_csv(f'{path}/raw data/HC_combined.csv', index=False)"
   ]
  }
 ],
 "metadata": {
  "kernelspec": {
   "display_name": "Python 3",
   "language": "python",
   "name": "python3"
  },
  "language_info": {
   "codemirror_mode": {
    "name": "ipython",
    "version": 3
   },
   "file_extension": ".py",
   "mimetype": "text/x-python",
   "name": "python",
   "nbconvert_exporter": "python",
   "pygments_lexer": "ipython3",
   "version": "3.9.6"
  }
 },
 "nbformat": 4,
 "nbformat_minor": 2
}
