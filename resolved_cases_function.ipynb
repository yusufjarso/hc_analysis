{
 "cells": [
  {
   "cell_type": "code",
   "execution_count": null,
   "metadata": {},
   "outputs": [],
   "source": [
    "#change outcome column to upper case\n",
    "combined_csv['outcome'] = combined_csv['outcome'].str.upper()\n",
    "def resolved_cases(combined_csv):\n",
    "    resolved = []\n",
    "    for i in combined_csv['outcome'].astype(str):\n",
    "        if (\"ABATED\" in i or \"CASE CLOSED\" in i or \"STRUCK OUT\" in i or  \"TERMINATED\" in i or \"DISMISS\" in i or \"GRANT CONFIRMED\" in i or \"GRANT REVOKED\" in i or \"JUDGMENT DELIVERED\" in i or \"ACQUITTAL\" in i or \"CONVICTED\" in i or \"LIMITED GRANT ISSUED\" in i or \"WITHDRAW\" in i or \"SETTLEMEN\" in i or \"REVISION DECLINED\" in i or \"RULING DELIVERED- ACCUSED DISC\" in i or \"RULING DELIVERED- CASE CLOSED\" in i) and (\"ORDER ISSUED - CASE CLOSED\" not in i):\n",
    "            resolved.append(1)\n",
    "    \n",
    "        else:\n",
    "            resolved.append(0)\n",
    "    combined_csv['resolved'] = resolved\n",
    "    return combined_csv\n",
    "\n",
    "combined_csv = resolved_cases(combined_csv)\n",
    "\n",
    "#save the combined file as a csv\n",
    "combined_csv.to_csv(f'{path}/raw data/HC_combined.csv', index=False)\n",
    "\n",
    "\n",
    "total_resolved = combined_csv['resolved'].sum()\n",
    "combined_csv[['outcome', 'resolved']] [combined_csv['resolved'] == 1].value_counts()\n",
    "total_resolved"
   ]
  }
 ],
 "metadata": {
  "language_info": {
   "name": "python"
  }
 },
 "nbformat": 4,
 "nbformat_minor": 2
}
