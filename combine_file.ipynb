{
 "cells": [
  {
   "cell_type": "code",
   "execution_count": null,
   "metadata": {},
   "outputs": [],
   "source": [
    "import pandas as pd\n",
    "# Define paths\n",
    "folder_path = '/Users/jud-05/Desktop/High Court/4Q High Court'\n",
    "new_path = '/Users/jud-05/Desktop/High Court/4Q combined'\n",
    "path = '/Users/jud-05/Desktop/High Court/4Q combined/dcrt_4Q'\n",
    "# Get all the CSV files in the directory\n",
    "all_files = glob.glob(path + \"/*.csv\")\n",
    "\n",
    "all_files\n",
    "\n",
    "# Combine all the CSV files into a single DataFrame and insert a column with the name of the file\n",
    "li = []\n",
    "for filename in all_files:\n",
    "    df = pd.read_csv(filename, index_col=None, header=0)\n",
    "    df['file_name'] = os.path.basename(filename)\n",
    "    li.append(df)\n",
    "       \n",
    "combined_csv = pd.concat(li, axis=0, ignore_index=True)\n",
    "\n",
    "\n",
    "#save the combined file as a csv\n",
    "combined_csv.to_csv(f'{path}/raw data/HC_combined.csv', index=False)\n"
   ]
  }
 ],
 "metadata": {
  "language_info": {
   "name": "python"
  }
 },
 "nbformat": 4,
 "nbformat_minor": 2
}
